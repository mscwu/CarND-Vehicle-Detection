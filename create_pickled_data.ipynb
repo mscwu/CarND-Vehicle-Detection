{
 "cells": [
  {
   "cell_type": "markdown",
   "metadata": {},
   "source": [
    "# Create Pickled Data"
   ]
  },
  {
   "cell_type": "markdown",
   "metadata": {},
   "source": [
    "The vehicle and non-vehicle dataset from GTI image database contain time-series images. In order to create a robust classifier, it is necessary to manually extract only one image for each vehicle. Otherwise, no matter how data is train-test split, it is possible to have very similar images in both training and testing dataset. After images are carefully selected, they will be stored in pickled files and ready for use in the project."
   ]
  },
  {
   "cell_type": "markdown",
   "metadata": {},
   "source": [
    "## Read GTI and KITTI Dataset"
   ]
  },
  {
   "cell_type": "code",
   "execution_count": 1,
   "metadata": {},
   "outputs": [
    {
     "name": "stdout",
     "output_type": "stream",
     "text": [
      "Vehicle image size is 6249\n",
      "Non vehicle image size is 8968\n"
     ]
    }
   ],
   "source": [
    "import numpy as np\n",
    "import cv2\n",
    "import glob\n",
    "import matplotlib.pyplot as plt\n",
    "import pickle\n",
    "%matplotlib inline\n",
    "\n",
    "# read vehicle images\n",
    "vehicle_images = [] \n",
    "gti_vehicle_images = glob.glob('./vehicles/vehicles/GTI*/*.png')\n",
    "kitti_vehicle_images = glob.glob('./vehicles/vehicles/KI*/*.png')\n",
    "# add all KITTI vehicle images\n",
    "vehicle_images.extend(kitti_vehicle_images)\n",
    "# extract GTI images at a step of 10\n",
    "sub_gti_vehicle_images = gti_vehicle_images[0::10]\n",
    "vehicle_images.extend(sub_gti_vehicle_images)\n",
    "print('Vehicle image size is {}'.format(len(vehicle_images)))\n",
    "\n",
    "# read non-vehicle images\n",
    "non_vehicle_images = glob.glob('./non_vehicles/non_vehicles/*/*.png')\n",
    "print ('Non vehicle image size is {}'.format(len(non_vehicle_images)))"
   ]
  },
  {
   "cell_type": "markdown",
   "metadata": {},
   "source": [
    "Now that a subset of images are extracted from the GTI image database, it is immediately found that the dataset is not balanced. In order to balance the dataset, data augmentation is required for vehicle images. There are several ways to do this.\n",
    "* Data augmentation based on existing images, e.g, flip image, add random contrast, shadow, warp\n",
    "* Add new data from other image database\n",
    "In this project, images from CrowdAI databased are used to supplement and balance the dataset."
   ]
  },
  {
   "cell_type": "markdown",
   "metadata": {},
   "source": [
    "## Include CrowdAI Dataset"
   ]
  },
  {
   "cell_type": "code",
   "execution_count": 2,
   "metadata": {},
   "outputs": [
    {
     "data": {
      "text/html": [
       "<div>\n",
       "<style>\n",
       "    .dataframe thead tr:only-child th {\n",
       "        text-align: right;\n",
       "    }\n",
       "\n",
       "    .dataframe thead th {\n",
       "        text-align: left;\n",
       "    }\n",
       "\n",
       "    .dataframe tbody tr th {\n",
       "        vertical-align: top;\n",
       "    }\n",
       "</style>\n",
       "<table border=\"1\" class=\"dataframe\">\n",
       "  <thead>\n",
       "    <tr style=\"text-align: right;\">\n",
       "      <th></th>\n",
       "      <th>xmin</th>\n",
       "      <th>xmax</th>\n",
       "      <th>ymin</th>\n",
       "      <th>ymax</th>\n",
       "      <th>Frame</th>\n",
       "      <th>Label</th>\n",
       "      <th>Preview URL</th>\n",
       "    </tr>\n",
       "  </thead>\n",
       "  <tbody>\n",
       "    <tr>\n",
       "      <th>0</th>\n",
       "      <td>785</td>\n",
       "      <td>533</td>\n",
       "      <td>905</td>\n",
       "      <td>644</td>\n",
       "      <td>1479498371963069978.jpg</td>\n",
       "      <td>Car</td>\n",
       "      <td>http://crowdai.com/images/Wwj-gorOCisE7uxA/vis...</td>\n",
       "    </tr>\n",
       "    <tr>\n",
       "      <th>1</th>\n",
       "      <td>89</td>\n",
       "      <td>551</td>\n",
       "      <td>291</td>\n",
       "      <td>680</td>\n",
       "      <td>1479498371963069978.jpg</td>\n",
       "      <td>Car</td>\n",
       "      <td>http://crowdai.com/images/Wwj-gorOCisE7uxA/vis...</td>\n",
       "    </tr>\n",
       "    <tr>\n",
       "      <th>2</th>\n",
       "      <td>268</td>\n",
       "      <td>546</td>\n",
       "      <td>383</td>\n",
       "      <td>650</td>\n",
       "      <td>1479498371963069978.jpg</td>\n",
       "      <td>Car</td>\n",
       "      <td>http://crowdai.com/images/Wwj-gorOCisE7uxA/vis...</td>\n",
       "    </tr>\n",
       "    <tr>\n",
       "      <th>3</th>\n",
       "      <td>455</td>\n",
       "      <td>522</td>\n",
       "      <td>548</td>\n",
       "      <td>615</td>\n",
       "      <td>1479498371963069978.jpg</td>\n",
       "      <td>Truck</td>\n",
       "      <td>http://crowdai.com/images/Wwj-gorOCisE7uxA/vis...</td>\n",
       "    </tr>\n",
       "    <tr>\n",
       "      <th>4</th>\n",
       "      <td>548</td>\n",
       "      <td>522</td>\n",
       "      <td>625</td>\n",
       "      <td>605</td>\n",
       "      <td>1479498371963069978.jpg</td>\n",
       "      <td>Truck</td>\n",
       "      <td>http://crowdai.com/images/Wwj-gorOCisE7uxA/vis...</td>\n",
       "    </tr>\n",
       "  </tbody>\n",
       "</table>\n",
       "</div>"
      ],
      "text/plain": [
       "   xmin  xmax  ymin  ymax                    Frame  Label  \\\n",
       "0   785   533   905   644  1479498371963069978.jpg    Car   \n",
       "1    89   551   291   680  1479498371963069978.jpg    Car   \n",
       "2   268   546   383   650  1479498371963069978.jpg    Car   \n",
       "3   455   522   548   615  1479498371963069978.jpg  Truck   \n",
       "4   548   522   625   605  1479498371963069978.jpg  Truck   \n",
       "\n",
       "                                         Preview URL  \n",
       "0  http://crowdai.com/images/Wwj-gorOCisE7uxA/vis...  \n",
       "1  http://crowdai.com/images/Wwj-gorOCisE7uxA/vis...  \n",
       "2  http://crowdai.com/images/Wwj-gorOCisE7uxA/vis...  \n",
       "3  http://crowdai.com/images/Wwj-gorOCisE7uxA/vis...  \n",
       "4  http://crowdai.com/images/Wwj-gorOCisE7uxA/vis...  "
      ]
     },
     "execution_count": 2,
     "metadata": {},
     "output_type": "execute_result"
    }
   ],
   "source": [
    "import pandas as pd\n",
    "\n",
    "# read CrowdAI image database\n",
    "crowdai_df = pd.read_csv('./object_detection_crowdai/labels.csv')\n",
    "# preview dataframe\n",
    "crowdai_df.head()"
   ]
  },
  {
   "cell_type": "markdown",
   "metadata": {},
   "source": [
    "For this project only cars are extracted from the CrowdAI database. "
   ]
  },
  {
   "cell_type": "code",
   "execution_count": 3,
   "metadata": {},
   "outputs": [
    {
     "data": {
      "text/html": [
       "<div>\n",
       "<style>\n",
       "    .dataframe thead tr:only-child th {\n",
       "        text-align: right;\n",
       "    }\n",
       "\n",
       "    .dataframe thead th {\n",
       "        text-align: left;\n",
       "    }\n",
       "\n",
       "    .dataframe tbody tr th {\n",
       "        vertical-align: top;\n",
       "    }\n",
       "</style>\n",
       "<table border=\"1\" class=\"dataframe\">\n",
       "  <thead>\n",
       "    <tr style=\"text-align: right;\">\n",
       "      <th></th>\n",
       "      <th>xmin</th>\n",
       "      <th>xmax</th>\n",
       "      <th>ymin</th>\n",
       "      <th>ymax</th>\n",
       "      <th>Frame</th>\n",
       "      <th>Label</th>\n",
       "      <th>Preview URL</th>\n",
       "    </tr>\n",
       "  </thead>\n",
       "  <tbody>\n",
       "    <tr>\n",
       "      <th>0</th>\n",
       "      <td>785</td>\n",
       "      <td>533</td>\n",
       "      <td>905</td>\n",
       "      <td>644</td>\n",
       "      <td>1479498371963069978.jpg</td>\n",
       "      <td>Car</td>\n",
       "      <td>http://crowdai.com/images/Wwj-gorOCisE7uxA/vis...</td>\n",
       "    </tr>\n",
       "    <tr>\n",
       "      <th>1</th>\n",
       "      <td>89</td>\n",
       "      <td>551</td>\n",
       "      <td>291</td>\n",
       "      <td>680</td>\n",
       "      <td>1479498371963069978.jpg</td>\n",
       "      <td>Car</td>\n",
       "      <td>http://crowdai.com/images/Wwj-gorOCisE7uxA/vis...</td>\n",
       "    </tr>\n",
       "    <tr>\n",
       "      <th>2</th>\n",
       "      <td>268</td>\n",
       "      <td>546</td>\n",
       "      <td>383</td>\n",
       "      <td>650</td>\n",
       "      <td>1479498371963069978.jpg</td>\n",
       "      <td>Car</td>\n",
       "      <td>http://crowdai.com/images/Wwj-gorOCisE7uxA/vis...</td>\n",
       "    </tr>\n",
       "    <tr>\n",
       "      <th>5</th>\n",
       "      <td>1726</td>\n",
       "      <td>484</td>\n",
       "      <td>1919</td>\n",
       "      <td>646</td>\n",
       "      <td>1479498371963069978.jpg</td>\n",
       "      <td>Car</td>\n",
       "      <td>http://crowdai.com/images/Wwj-gorOCisE7uxA/vis...</td>\n",
       "    </tr>\n",
       "    <tr>\n",
       "      <th>6</th>\n",
       "      <td>758</td>\n",
       "      <td>557</td>\n",
       "      <td>807</td>\n",
       "      <td>617</td>\n",
       "      <td>1479498371963069978.jpg</td>\n",
       "      <td>Car</td>\n",
       "      <td>http://crowdai.com/images/Wwj-gorOCisE7uxA/vis...</td>\n",
       "    </tr>\n",
       "  </tbody>\n",
       "</table>\n",
       "</div>"
      ],
      "text/plain": [
       "   xmin  xmax  ymin  ymax                    Frame Label  \\\n",
       "0   785   533   905   644  1479498371963069978.jpg   Car   \n",
       "1    89   551   291   680  1479498371963069978.jpg   Car   \n",
       "2   268   546   383   650  1479498371963069978.jpg   Car   \n",
       "5  1726   484  1919   646  1479498371963069978.jpg   Car   \n",
       "6   758   557   807   617  1479498371963069978.jpg   Car   \n",
       "\n",
       "                                         Preview URL  \n",
       "0  http://crowdai.com/images/Wwj-gorOCisE7uxA/vis...  \n",
       "1  http://crowdai.com/images/Wwj-gorOCisE7uxA/vis...  \n",
       "2  http://crowdai.com/images/Wwj-gorOCisE7uxA/vis...  \n",
       "5  http://crowdai.com/images/Wwj-gorOCisE7uxA/vis...  \n",
       "6  http://crowdai.com/images/Wwj-gorOCisE7uxA/vis...  "
      ]
     },
     "execution_count": 3,
     "metadata": {},
     "output_type": "execute_result"
    }
   ],
   "source": [
    "crowdai_cars = crowdai_df.loc[crowdai_df['Label'] == 'Car']\n",
    "crowdai_cars.head()"
   ]
  },
  {
   "cell_type": "markdown",
   "metadata": {},
   "source": [
    "Next, figure out how many images are needed to be added to vehicle dataset and randomly select images from the database."
   ]
  },
  {
   "cell_type": "code",
   "execution_count": 4,
   "metadata": {},
   "outputs": [
    {
     "name": "stdout",
     "output_type": "stream",
     "text": [
      "Need 2719 additional images\n",
      "Number of unique frames in CrowdAI database\n",
      "9130\n"
     ]
    }
   ],
   "source": [
    "n_additional_images = len(non_vehicle_images) - len(vehicle_images)\n",
    "print('Need {} additional images'.format(n_additional_images))\n",
    "# seed the generator to keep the results reproducable\n",
    "np.random.seed(40)\n",
    "print('Number of unique frames in CrowdAI database')\n",
    "#print(crowdai_cars.size)\n",
    "print(crowdai_cars['Frame'].nunique())"
   ]
  },
  {
   "cell_type": "markdown",
   "metadata": {},
   "source": [
    "Again, the CrowdAI database is based on frames captures on the road at 2Hz. It is necessary to select images with sufficient interval to make the data useful. \n",
    "First of all, it is helpful to know the minimum number of cars that can be extracted from each frame."
   ]
  },
  {
   "cell_type": "code",
   "execution_count": 5,
   "metadata": {},
   "outputs": [
    {
     "data": {
      "image/png": "[encoded data removed]",
      "text/plain": [
       "<matplotlib.figure.Figure at 0x220ae64a080>"
      ]
     },
     "metadata": {},
     "output_type": "display_data"
    }
   ],
   "source": [
    "frames = crowdai_cars.groupby('Frame')\n",
    "# get a list for each frame\n",
    "frame_info =[x[1] for x in list(frames)]\n",
    "# get minimum number of cars in a frame\n",
    "n_min = [len(x) for x in frame_info]\n",
    "# show min counts in a histogram\n",
    "plt.hist(n_min, bins=10)\n",
    "plt.show()"
   ]
  },
  {
   "cell_type": "markdown",
   "metadata": {},
   "source": [
    "It seems that there a quite a few frames that have number of cars less than 5."
   ]
  },
  {
   "cell_type": "code",
   "execution_count": 6,
   "metadata": {},
   "outputs": [
    {
     "name": "stdout",
     "output_type": "stream",
     "text": [
      "Number of frames with at least 5 cars in the image:\n",
      "6434\n"
     ]
    }
   ],
   "source": [
    "# use pandas filter to get frames with more than 5 cars in the image\n",
    "good_frames = frames.filter(lambda x: len(x) >= 5)\n",
    "good_frames.head(30)\n",
    "print('Number of frames with at least 5 cars in the image:')\n",
    "print(good_frames['Frame'].nunique())"
   ]
  },
  {
   "cell_type": "markdown",
   "metadata": {},
   "source": [
    "It is known that 2719 additional car images are need. There are 6434 frames with at least 5 cars in the image. Therefore, images should be extracted at an interval of 6434/(2719/5) = 11."
   ]
  },
  {
   "cell_type": "code",
   "execution_count": 7,
   "metadata": {},
   "outputs": [
    {
     "name": "stdout",
     "output_type": "stream",
     "text": [
      "Number of final extracted frames:\n",
      "585\n"
     ]
    }
   ],
   "source": [
    "# first, drop duplicated frames\n",
    "extracted_frames = good_frames.drop_duplicates(['Frame'], keep='last')\n",
    "# reset index so that we can use fixed step slicing\n",
    "extracted_frames = extracted_frames.reset_index(drop=True)\n",
    "# extract frame every 11 frames\n",
    "extracted_frames = extracted_frames.iloc[::11]\n",
    "print('Number of final extracted frames:')\n",
    "print(extracted_frames['Frame'].count())"
   ]
  },
  {
   "cell_type": "markdown",
   "metadata": {},
   "source": [
    "Now, 585 unique frames with at least 5 cars in each frame are extracted from the dataset. It is not guaranteed that each frame is unique though, as a fixed step extraction is used. If the car collecting the frames stops at red light for a long time, there will be more than 11 frames with the very similar image. However, reasonable effort has been taken to reduce the chance of this problem happening."
   ]
  },
  {
   "cell_type": "markdown",
   "metadata": {},
   "source": [
    "The next step is to extract car bounding box in the frames just extracted. Cars should be extracted from each image and saved as .png files."
   ]
  },
  {
   "cell_type": "code",
   "execution_count": 8,
   "metadata": {},
   "outputs": [
    {
     "data": {
      "text/plain": [
       "5005"
      ]
     },
     "execution_count": 8,
     "metadata": {},
     "output_type": "execute_result"
    }
   ],
   "source": [
    "frames_of_interest = crowdai_cars[crowdai_cars['Frame'].isin(extracted_frames['Frame'])]\n",
    "frames_of_interest['Frame'].count()"
   ]
  },
  {
   "cell_type": "markdown",
   "metadata": {},
   "source": [
    "There are 5005 cars that can be extracted and only 2719 of them are needed."
   ]
  },
  {
   "cell_type": "code",
   "execution_count": 9,
   "metadata": {},
   "outputs": [],
   "source": [
    "crowdai_sample = frames_of_interest.sample(n=2719, random_state=40)"
   ]
  },
  {
   "cell_type": "markdown",
   "metadata": {},
   "source": [
    "Now, define a function that takes in a dataframe, read the image for each frame, extract cars according to the bounding boxes, resize them and then save the image a car image in png format."
   ]
  },
  {
   "cell_type": "code",
   "execution_count": 10,
   "metadata": {
    "collapsed": true
   },
   "outputs": [],
   "source": [
    "import os\n",
    "crowdai_path = 'object_detection_crowdai/'\n",
    "save_path = 'vehicle_crowdai/'\n",
    "\n",
    "def car_from_crowdai(dataframe):\n",
    "    for index, row in dataframe.iterrows():\n",
    "        image = os.path.join(crowdai_path, row['Frame'])\n",
    "        img = cv2.imread(image)\n",
    "        #f, (ax1, ax2) = plt.subplots(1, 2, figsize=(24,8))\n",
    "        #ax1.imshow(img)\n",
    "        xmin = row['xmin']\n",
    "        xmax = row['xmax']\n",
    "        ymin = row['ymin']\n",
    "        ymax = row['ymax']\n",
    "        top_left = (xmin, xmax)\n",
    "        bot_right = (ymin, ymax)\n",
    "        car_img = img[xmax:ymax, xmin:ymin]\n",
    "        #car_img = cv2.rectangle(img, top_left, bot_right, (0,255,0),4)\n",
    "        #f = plt.plot(figsize=(24,8))\n",
    "        #ax2.imshow(car_img)\n",
    "        resized = cv2.resize(car_img, (64, 64))\n",
    "        cv2.imwrite(save_path+str(index)+\".png\",resized)\n",
    "    print(\"Vehicle images successfully created.\")"
   ]
  },
  {
   "cell_type": "code",
   "execution_count": 11,
   "metadata": {
    "scrolled": false
   },
   "outputs": [
    {
     "name": "stdout",
     "output_type": "stream",
     "text": [
      "Vehicle images successfully created.\n"
     ]
    }
   ],
   "source": [
    "car_from_crowdai(crowdai_sample)"
   ]
  },
  {
   "cell_type": "markdown",
   "metadata": {},
   "source": [
    "Now that the supplementary data has been generated, they can be included in the `vehicles_images` list."
   ]
  },
  {
   "cell_type": "code",
   "execution_count": 12,
   "metadata": {},
   "outputs": [
    {
     "name": "stdout",
     "output_type": "stream",
     "text": [
      "Vehicle image size is 8968\n"
     ]
    }
   ],
   "source": [
    "crowdai_vehicle_images = glob.glob('./vehicle_crowdai/*.png')\n",
    "vehicle_images.extend(crowdai_vehicle_images)\n",
    "print('Vehicle image size is {}'.format(len(vehicle_images)))"
   ]
  },
  {
   "cell_type": "markdown",
   "metadata": {},
   "source": [
    "Now the vehicle set and non-vehicle set are balanced."
   ]
  },
  {
   "cell_type": "markdown",
   "metadata": {},
   "source": [
    "## Save Dataset"
   ]
  },
  {
   "cell_type": "code",
   "execution_count": 13,
   "metadata": {},
   "outputs": [
    {
     "name": "stdout",
     "output_type": "stream",
     "text": [
      "Writing pickle file.\n",
      "Writing done.\n"
     ]
    }
   ],
   "source": [
    "# read images and create a list\n",
    "veh_img = []\n",
    "non_veh_img = []\n",
    "for img_file in vehicle_images:\n",
    "    # read png file and results in range(0,255)\n",
    "    img = cv2.imread(img_file)\n",
    "    veh_img.append(img)\n",
    "\n",
    "for img_file in non_vehicle_images:\n",
    "    img = cv2.imread(img_file)\n",
    "    non_veh_img.append(img)\n",
    "\n",
    "data = {'vehicle_images': veh_img, 'non_vehicle_images': non_veh_img}\n",
    "print (\"Writing pickle file.\")\n",
    "with open('dataset.pickle', 'wb') as f:\n",
    "    pickle.dump(data, f)\n",
    "    print (\"Writing done.\")"
   ]
  },
  {
   "cell_type": "code",
   "execution_count": 14,
   "metadata": {},
   "outputs": [
    {
     "name": "stdout",
     "output_type": "stream",
     "text": [
      "Data loaded.\n"
     ]
    }
   ],
   "source": [
    "# test pickle file\n",
    "\n",
    "with open('dataset.pickle', 'rb') as f:\n",
    "    data = pickle.load(f)\n",
    "    print(\"Data loaded.\")\n",
    "    \n",
    "veh_img_test = data['vehicle_images']\n",
    "non_veh_img_test = data['non_vehicle_images']"
   ]
  },
  {
   "cell_type": "code",
   "execution_count": 15,
   "metadata": {},
   "outputs": [
    {
     "data": {
      "text/plain": [
       "<matplotlib.image.AxesImage at 0x220c3edfb00>"
      ]
     },
     "execution_count": 15,
     "metadata": {},
     "output_type": "execute_result"
    },
    {
     "data": {
      "image/png": "[encoded data removed]",
      "text/plain": [
       "<matplotlib.figure.Figure at 0x220c3e0f160>"
      ]
     },
     "metadata": {},
     "output_type": "display_data"
    }
   ],
   "source": [
    "plt.imshow(veh_img_test[np.random.randint(0,len(veh_img_test))])"
   ]
  },
  {
   "cell_type": "code",
   "execution_count": 16,
   "metadata": {},
   "outputs": [
    {
     "data": {
      "text/plain": [
       "<matplotlib.image.AxesImage at 0x220b452e438>"
      ]
     },
     "execution_count": 16,
     "metadata": {},
     "output_type": "execute_result"
    },
    {
     "data": {
      "image/png": "[encoded data removed]",
      "text/plain": [
       "<matplotlib.figure.Figure at 0x220c3a9a6a0>"
      ]
     },
     "metadata": {},
     "output_type": "display_data"
    }
   ],
   "source": [
    "plt.imshow(non_veh_img_test[np.random.randint(0,len(non_veh_img_test))])"
   ]
  }
 ],
 "metadata": {
  "kernelspec": {
   "display_name": "Python 3",
   "language": "python",
   "name": "python3"
  },
  "language_info": {
   "codemirror_mode": {
    "name": "ipython",
    "version": 3
   },
   "file_extension": ".py",
   "mimetype": "text/x-python",
   "name": "python",
   "nbconvert_exporter": "python",
   "pygments_lexer": "ipython3",
   "version": "3.5.2"
  },
  "widgets": {
   "state": {},
   "version": "1.1.2"
  }
 },
 "nbformat": 4,
 "nbformat_minor": 2
}
